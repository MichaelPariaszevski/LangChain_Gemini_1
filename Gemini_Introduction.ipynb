{
 "cells": [
  {
   "cell_type": "markdown",
   "metadata": {},
   "source": [
    "LangChain and Google's Gemini"
   ]
  },
  {
   "cell_type": "code",
   "execution_count": null,
   "metadata": {},
   "outputs": [],
   "source": [
    "# pip install langchain-google-genai\n",
    "# pip install google-generativeai"
   ]
  },
  {
   "cell_type": "code",
   "execution_count": 16,
   "metadata": {},
   "outputs": [
    {
     "data": {
      "text/plain": [
       "True"
      ]
     },
     "execution_count": 16,
     "metadata": {},
     "output_type": "execute_result"
    }
   ],
   "source": [
    "from dotenv import load_dotenv, find_dotenv \n",
    "\n",
    "load_dotenv(find_dotenv(), override=True)"
   ]
  },
  {
   "cell_type": "code",
   "execution_count": 15,
   "metadata": {},
   "outputs": [],
   "source": [
    "import getpass \n",
    "import os \n",
    "\n",
    "if \"GOOGLE_API_KEY\" not in os.environ: \n",
    "    os.environ[\"GOOGLE_API_KEY\"]=getpass.getpass(\"Provide your Google API Key: \")"
   ]
  },
  {
   "cell_type": "code",
   "execution_count": 18,
   "metadata": {},
   "outputs": [],
   "source": [
    "import google.generativeai as genai \n",
    "\n",
    "# for model in genai.list_models(): \n",
    "#     print(model.name)"
   ]
  },
  {
   "cell_type": "markdown",
   "metadata": {},
   "source": [
    "Integrating Gemini with LangChain"
   ]
  },
  {
   "cell_type": "code",
   "execution_count": 19,
   "metadata": {},
   "outputs": [],
   "source": [
    "from langchain_google_genai import ChatGoogleGenerativeAI \n",
    "\n",
    "# The GOOGLE_API_KEY can also be given as a parameter to ChatGoogleGenerativeAI() \n",
    "\n",
    "# llm=ChatGoogleGenerativeAI(model=\"gemini-pro\", temperature=0.9, google_api_key=\"YOUR_API_KEY\")\n",
    "\n",
    "llm=ChatGoogleGenerativeAI(model=\"gemini-pro\", temperature=0.9)"
   ]
  },
  {
   "cell_type": "code",
   "execution_count": 21,
   "metadata": {},
   "outputs": [],
   "source": [
    "response=llm.invoke(input=\"Write a paragraph about life on Mars in the year 2100.\")"
   ]
  },
  {
   "cell_type": "code",
   "execution_count": 22,
   "metadata": {},
   "outputs": [
    {
     "name": "stdout",
     "output_type": "stream",
     "text": [
      "In the year 2100, Mars has emerged as a thriving hub of human life. The once-barren planet now boasts flourishing cities protected by transparent domes, shielding inhabitants from the harsh Martian atmosphere. Advanced technology has transformed the landscape, creating artificial waterways and lush gardens that sustain life amidst the red Martian soil. Humans have adapted to the planet's unique conditions, donning specialized suits for ventures outside the domes. Scientific advancements have unlocked the secrets of Martian biology, and research continues to explore the potential for Martian life. As the century draws to a close, Mars stands as a symbol of human perseverance and ingenuity, serving as a second home for humanity amidst the vast expanse of the cosmos.\n"
     ]
    }
   ],
   "source": [
    "print(response.content)"
   ]
  },
  {
   "cell_type": "code",
   "execution_count": 23,
   "metadata": {},
   "outputs": [
    {
     "name": "stderr",
     "output_type": "stream",
     "text": [
      "c:\\Users\\MP19\\anaconda3\\envs\\LangChain_1_venv\\lib\\site-packages\\langchain_core\\_api\\deprecation.py:139: LangChainDeprecationWarning: The class `LLMChain` was deprecated in LangChain 0.1.17 and will be removed in 1.0. Use RunnableSequence, e.g., `prompt | llm` instead.\n",
      "  warn_deprecated(\n"
     ]
    }
   ],
   "source": [
    "from langchain.prompts import PromptTemplate \n",
    "from langchain.chains import LLMChain \n",
    "\n",
    "llm_2=ChatGoogleGenerativeAI(model=\"gemini-pro\") \n",
    "\n",
    "prompt=PromptTemplate.from_template(\"You are a content creator. Write me a tweet about {topic}.\") \n",
    "\n",
    "chain=LLMChain(llm=llm_2, prompt=prompt, verbose=True)"
   ]
  },
  {
   "cell_type": "code",
   "execution_count": 24,
   "metadata": {},
   "outputs": [
    {
     "name": "stdout",
     "output_type": "stream",
     "text": [
      "\n",
      "\n",
      "\u001b[1m> Entering new LLMChain chain...\u001b[0m\n",
      "Prompt after formatting:\n",
      "\u001b[32;1m\u001b[1;3mYou are a content creator. Write me a tweet about Why will AI change the world?.\u001b[0m\n",
      "\n",
      "\u001b[1m> Finished chain.\u001b[0m\n",
      "{'topic': 'Why will AI change the world?', 'text': '⚡️AI Revolution: Brace yourselves for a world transformed! From personalized experiences to groundbreaking discoveries, AI will reshape industries, enhance decision-making, and unlock unprecedented possibilities. Join us for the AI-driven future! #AIRedefiningTheWorld'}\n",
      "--------------------------------------------------\n",
      "⚡️AI Revolution: Brace yourselves for a world transformed! From personalized experiences to groundbreaking discoveries, AI will reshape industries, enhance decision-making, and unlock unprecedented possibilities. Join us for the AI-driven future! #AIRedefiningTheWorld\n"
     ]
    }
   ],
   "source": [
    "topic=\"Why will AI change the world?\" \n",
    "\n",
    "response=chain.invoke(input=topic) \n",
    "\n",
    "print(response) \n",
    "print(\"-\"*50) \n",
    "print(response[\"text\"])"
   ]
  },
  {
   "cell_type": "markdown",
   "metadata": {},
   "source": [
    "System Prompt and Streaming "
   ]
  },
  {
   "cell_type": "markdown",
   "metadata": {},
   "source": [
    "System Prompt"
   ]
  },
  {
   "cell_type": "code",
   "execution_count": 25,
   "metadata": {},
   "outputs": [
    {
     "name": "stderr",
     "output_type": "stream",
     "text": [
      "c:\\Users\\MP19\\anaconda3\\envs\\LangChain_1_venv\\lib\\site-packages\\langchain_google_genai\\chat_models.py:352: UserWarning: Convert_system_message_to_human will be deprecated!\n",
      "  warnings.warn(\"Convert_system_message_to_human will be deprecated!\")\n"
     ]
    },
    {
     "name": "stdout",
     "output_type": "stream",
     "text": [
      "content='OUI' response_metadata={'prompt_feedback': {'block_reason': 0, 'safety_ratings': []}, 'finish_reason': 'STOP', 'safety_ratings': [{'category': 'HARM_CATEGORY_SEXUALLY_EXPLICIT', 'probability': 'NEGLIGIBLE', 'blocked': False}, {'category': 'HARM_CATEGORY_HATE_SPEECH', 'probability': 'NEGLIGIBLE', 'blocked': False}, {'category': 'HARM_CATEGORY_HARASSMENT', 'probability': 'NEGLIGIBLE', 'blocked': False}, {'category': 'HARM_CATEGORY_DANGEROUS_CONTENT', 'probability': 'NEGLIGIBLE', 'blocked': False}]} id='run-5d30312b-c501-4c44-9839-73d1968c46e2-0' usage_metadata={'input_tokens': 15, 'output_tokens': 2, 'total_tokens': 17}\n",
      "--------------------------------------------------\n",
      "OUI\n"
     ]
    }
   ],
   "source": [
    "from langchain_core.messages import HumanMessage, SystemMessage \n",
    "\n",
    "# SystemMessage acts as a guide for the llm, telling it how to act or what type of responses to give \n",
    "\n",
    "llm=ChatGoogleGenerativeAI(model=\"gemini-pro\", convert_system_message_to_human=True) \n",
    "\n",
    "output=llm.invoke([SystemMessage(content=\"Answer only YES or NO in French.\"), HumanMessage(content=\"Is a cat a mammal?\")]) \n",
    "\n",
    "print(output) \n",
    "print(\"-\"*50) \n",
    "print(output.content)"
   ]
  },
  {
   "cell_type": "markdown",
   "metadata": {},
   "source": [
    "Streaming "
   ]
  },
  {
   "cell_type": "code",
   "execution_count": 27,
   "metadata": {},
   "outputs": [
    {
     "name": "stdout",
     "output_type": "stream",
     "text": [
      "**Title:** The Mathematical Foundation of Our Universe\n",
      "\n",
      "**Abstract:**\n",
      "\n",
      "The universe we inhabit is governed by a set of fundamental mathematical principles that underpin its structure, dynamics, and evolution. This paper explores the mathematical foundation of our universe, examining the key mathematical concepts and theories that provide a framework for understanding the cosmos. We discuss the role of geometry, topology, algebra, and calculus in describing the universe's properties and behavior.\n",
      "\n",
      "**Introduction:**\n",
      "\n",
      "The pursuit of understanding the universe has been a central endeavor of human inquiry for centuries. From the ancient Greeks to modern-day physicists, scientists have sought to unravel the mysteries of the cosmos through observation, experimentation, and mathematical modeling. Mathematics has emerged as an indispensable tool in this quest, providing a language for describing the universe's structure and dynamics.\n",
      "\n",
      "**Geometry and Topology:**\n",
      "\n",
      "Geometry and topology are fundamental mathematical disciplines that describe the shape and structure of objects. In cosmology, geometry is used to model the curvature of spacetime, which determines the universe's expansion and evolution. Topology, on the other hand, deals with the properties of objects that remain unchanged under continuous deformations. It is used to study the topology of the universe, including its connectedness and the existence of multiple universes.\n",
      "\n",
      "**Algebra:**\n",
      "\n",
      "Algebra is a branch of mathematics that deals with the study of structures, such as groups, rings, and fields. In cosmology, algebra is used to describe the symmetries and conservation laws of the universe. For example, the Standard Model of particle physics is based on the symmetry group SU(3) x SU(2) x U(1).\n",
      "\n",
      "**Calculus:**\n",
      "\n",
      "Calculus is a mathematical tool that allows us to study the rate of change of quantities. In cosmology, calculus is used to describe the evolution of the universe, including the expansion of spacetime, the formation of galaxies, and the evolution of stars. The equations of general relativity, which govern the dynamics of spacetime, are based on the principles of calculus.\n",
      "\n",
      "**Mathematical Models:**\n",
      "\n",
      "Mathematical models play a crucial role in cosmology. They provide a framework for testing theories, making predictions, and understanding the behavior of the universe. Some of the most important mathematical models in cosmology include:\n",
      "\n",
      "* The Friedmann-Lemaître-Robertson-Walker (FLRW) metric, which describes the geometry of an expanding universe.\n",
      "* The Big Bang model, which describes the origin and evolution of the universe.\n",
      "* The Standard Model of particle physics, which describes the fundamental particles and forces that make up the universe.\n",
      "\n",
      "**Conclusion:**\n",
      "\n",
      "The mathematical foundation of our universe is a complex and fascinating subject that continues to be explored by scientists. The mathematical principles that govern the cosmos provide a framework for understanding its structure, dynamics, and evolution. As we continue to probe the depths of the universe, mathematics will remain an indispensable tool in our quest for knowledge.\n"
     ]
    }
   ],
   "source": [
    "# Without Streaming\n",
    "\n",
    "llm=ChatGoogleGenerativeAI(model=\"gemini-pro\", temperature=0) \n",
    "\n",
    "prompt=\"Write a scientific paper outlining the mathematical foundation of our universe.\" \n",
    "\n",
    "response=llm.invoke(prompt) \n",
    "\n",
    "print(response.content)"
   ]
  },
  {
   "cell_type": "code",
   "execution_count": 28,
   "metadata": {},
   "outputs": [
    {
     "name": "stdout",
     "output_type": "stream",
     "text": [
      "**Title:** The Mathematical Foundation of Our Universe\n",
      "\n",
      "**Abstract:**\n",
      "\n",
      "The universe we inhabit is governed by a set of fundamental mathematical principles that underpin its structure, dynamics, and evolution. This paper explores the mathematical foundation of our universe, examining the key mathematical concepts and theories that provide a framework for understanding the cosmos. We discuss the role of geometry, topology, algebra, and calculus in describing the universe's properties and behavior.\n",
      "\n",
      "**Introduction:**\n",
      "\n",
      "The pursuit of understanding the universe has been a central endeavor of human inquiry for centuries. From the ancient Greeks to modern-day physicists, scientists have sought to unravel the mysteries of the cosmos through observation, experimentation, and mathematical modeling. Mathematics has emerged as an indispensable tool in this quest, providing a language for describing the universe's fundamental laws and predicting its behavior.\n",
      "\n",
      "**Geometry and Topology:**\n",
      "\n",
      "Geometry and topology are branches of mathematics that deal with the shape and structure of objects. In cosmology, geometry is used to describe the curvature and expansion of the universe. The shape of the universe is determined by the distribution of matter and energy within it, and can be represented by a variety of geometric models, such as the Friedmann-Lemaître-Robertson-Walker (FLRW) metric. Topology, on the other hand, studies the properties of objects that are invariant under continuous deformations. In cosmology, topology is used to classify the possible shapes of the universe, such as the three-sphere, the flat torus, and the hyperbolic space.\n",
      "\n",
      "**Algebra:**\n",
      "\n",
      "Algebra is a branch of mathematics that deals with the study of structures, such as groups, rings, and fields. In cosmology, algebra is used to describe the symmetries and conservation laws of the universe. The symmetries of the universe are represented by groups, such as the Lorentz group and the Poincaré group. Conservation laws, such as the conservation of energy and momentum, are expressed in terms of algebraic equations.\n",
      "\n",
      "**Calculus:**\n",
      "\n",
      "Calculus is a branch of mathematics that deals with the study of change. In cosmology, calculus is used to describe the dynamics and evolution of the universe. The equations of motion for the universe are derived from the Einstein field equations, which are a set of partial differential equations that describe the curvature of spacetime. Calculus is also used to study the evolution of galaxies, stars, and other celestial objects.\n",
      "\n",
      "**Conclusion:**\n",
      "\n",
      "The mathematical foundation of our universe provides a framework for understanding the cosmos and its behavior. Geometry, topology, algebra, and calculus are essential tools for describing the universe's structure, dynamics, and evolution. By harnessing the power of mathematics, scientists have made significant progress in unraveling the mysteries of the universe and gaining a deeper understanding of our place within it.\n",
      "\n",
      "**References:**\n",
      "\n",
      "* Hawking, S. W. (1988). A brief history of time. Bantam Books.\n",
      "* Penrose, R. (2004). The road to reality: A complete guide to the laws of the universe. Vintage Books.\n",
      "* Weinberg, S. (1993). The first three minutes: A modern view of the origin of the universe. Basic Books."
     ]
    }
   ],
   "source": [
    "# With Streaming \n",
    "\n",
    "llm=ChatGoogleGenerativeAI(model=\"gemini-pro\", temperature=0) \n",
    "\n",
    "prompt=\"Write a scientific paper outlining the mathematical foundation of our universe.\" \n",
    "\n",
    "for chunk in llm.stream(prompt): \n",
    "    print(chunk.content, end=\"\")"
   ]
  },
  {
   "cell_type": "code",
   "execution_count": 29,
   "metadata": {},
   "outputs": [
    {
     "name": "stdout",
     "output_type": "stream",
     "text": [
      "**Title:** The Mathematical Foundation of Our Universe\n",
      "\n",
      "**Abstract:**\n",
      "\n",
      "The universe\n",
      "----------------------------------------------------------------------------------------------------\n",
      " we inhabit is governed by a set of fundamental mathematical principles that underpin its structure, dynamics, and evolution. This paper explores the mathematical foundation of our universe, examining\n",
      "----------------------------------------------------------------------------------------------------\n",
      " the key mathematical concepts and theories that provide a framework for understanding the cosmos. We discuss the role of geometry, topology, algebra, and calculus in describing the universe's properties and behavior.\n",
      "\n",
      "**Introduction:**\n",
      "\n",
      "The pursuit of understanding the universe has been a central endeavor of human inquiry for centuries. From the ancient Greeks\n",
      "----------------------------------------------------------------------------------------------------\n",
      " to modern-day physicists, scientists have sought to unravel the mysteries of the cosmos through observation, experimentation, and mathematical modeling. Mathematics has emerged as an indispensable tool in this quest, providing a language for describing the universe's structure and dynamics.\n",
      "\n",
      "**Geometry and Topology:**\n",
      "\n",
      "Geometry and topology are fundamental mathematical disciplines that describe the shape and structure of objects. In cosmology, geometry is used to model the curvature of spacetime, which determines the universe's expansion and evolution. Topology, on the other hand, deals with the properties of objects that remain unchanged under continuous deformations. It is used to study the topology of the universe, including its\n",
      "----------------------------------------------------------------------------------------------------\n",
      "\n",
      "----------------------------------------------------------------------------------------------------\n"
     ]
    }
   ],
   "source": [
    "# With Streaming \n",
    "\n",
    "llm=ChatGoogleGenerativeAI(model=\"gemini-pro\", temperature=0) \n",
    "\n",
    "prompt=\"Write a scientific paper outlining the mathematical foundation of our universe.\" \n",
    "\n",
    "for chunk in llm.stream(prompt): \n",
    "    print(chunk.content)\n",
    "    print(\"-\"*100)"
   ]
  }
 ],
 "metadata": {
  "kernelspec": {
   "display_name": "LangChain_1_venv",
   "language": "python",
   "name": "python3"
  },
  "language_info": {
   "codemirror_mode": {
    "name": "ipython",
    "version": 3
   },
   "file_extension": ".py",
   "mimetype": "text/x-python",
   "name": "python",
   "nbconvert_exporter": "python",
   "pygments_lexer": "ipython3",
   "version": "3.9.19"
  }
 },
 "nbformat": 4,
 "nbformat_minor": 2
}
