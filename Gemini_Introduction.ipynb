{
 "cells": [
  {
   "cell_type": "markdown",
   "metadata": {},
   "source": [
    "LangChain and Google's Gemini"
   ]
  },
  {
   "cell_type": "code",
   "execution_count": 1,
   "metadata": {},
   "outputs": [],
   "source": [
    "# pip install langchain-google-genai\n",
    "# pip install google-generativeai"
   ]
  },
  {
   "cell_type": "code",
   "execution_count": 1,
   "metadata": {},
   "outputs": [
    {
     "data": {
      "text/plain": [
       "True"
      ]
     },
     "execution_count": 1,
     "metadata": {},
     "output_type": "execute_result"
    }
   ],
   "source": [
    "from dotenv import load_dotenv, find_dotenv \n",
    "\n",
    "load_dotenv(find_dotenv(), override=True)"
   ]
  },
  {
   "cell_type": "code",
   "execution_count": 2,
   "metadata": {},
   "outputs": [],
   "source": [
    "import getpass \n",
    "import os \n",
    "\n",
    "if \"GOOGLE_API_KEY\" not in os.environ: \n",
    "    os.environ[\"GOOGLE_API_KEY\"]=getpass.getpass(\"Provide your Google API Key: \")"
   ]
  },
  {
   "cell_type": "code",
   "execution_count": 3,
   "metadata": {},
   "outputs": [
    {
     "name": "stderr",
     "output_type": "stream",
     "text": [
      "c:\\Users\\mpari\\anaconda3\\envs\\LangChain_Laptop_1_venv\\lib\\site-packages\\tqdm\\auto.py:21: TqdmWarning: IProgress not found. Please update jupyter and ipywidgets. See https://ipywidgets.readthedocs.io/en/stable/user_install.html\n",
      "  from .autonotebook import tqdm as notebook_tqdm\n"
     ]
    }
   ],
   "source": [
    "import google.generativeai as genai \n",
    "\n",
    "# for model in genai.list_models(): \n",
    "#     print(model.name)"
   ]
  },
  {
   "cell_type": "markdown",
   "metadata": {},
   "source": [
    "Integrating Gemini with LangChain"
   ]
  },
  {
   "cell_type": "code",
   "execution_count": 4,
   "metadata": {},
   "outputs": [],
   "source": [
    "from langchain_google_genai import ChatGoogleGenerativeAI \n",
    "\n",
    "# The GOOGLE_API_KEY can also be given as a parameter to ChatGoogleGenerativeAI() \n",
    "\n",
    "# llm=ChatGoogleGenerativeAI(model=\"gemini-pro\", temperature=0.9, google_api_key=\"YOUR_API_KEY\")\n",
    "\n",
    "llm=ChatGoogleGenerativeAI(model=\"gemini-pro\", temperature=0.9)"
   ]
  },
  {
   "cell_type": "code",
   "execution_count": 5,
   "metadata": {},
   "outputs": [],
   "source": [
    "response=llm.invoke(input=\"Write a paragraph about life on Mars in the year 2100.\")"
   ]
  },
  {
   "cell_type": "code",
   "execution_count": 6,
   "metadata": {},
   "outputs": [
    {
     "name": "stdout",
     "output_type": "stream",
     "text": [
      "In the year 2100, life on Mars had taken root and flourished beyond anyone's wildest dreams. The once barren and desolate red planet had transformed into a thriving hub of human innovation and sustainability. Martian cities, gleaming with domes and biospheres, dotted the landscape, each boasting lush gardens, crystalline water canals, and advanced technologies. The colonists, now seasoned and resilient, had overcome countless challenges, utilizing the planet's resources to create self-sustaining communities. They harnessed solar and wind energy, cultivated crops in Martian soil, and even developed a breathable atmosphere within their settlements. The pioneering spirit that had brought them to Mars continued to drive their quest for knowledge and progress, as they delved deeper into the Martian environment, unraveling its mysteries and secrets. Life on Mars was no longer a mere dream but a tangible reality, a testament to human ingenuity and the indomitable will to explore the unknown.\n"
     ]
    }
   ],
   "source": [
    "print(response.content)"
   ]
  },
  {
   "cell_type": "code",
   "execution_count": 7,
   "metadata": {},
   "outputs": [
    {
     "name": "stderr",
     "output_type": "stream",
     "text": [
      "c:\\Users\\mpari\\anaconda3\\envs\\LangChain_Laptop_1_venv\\lib\\site-packages\\langchain_core\\_api\\deprecation.py:139: LangChainDeprecationWarning: The class `LLMChain` was deprecated in LangChain 0.1.17 and will be removed in 1.0. Use RunnableSequence, e.g., `prompt | llm` instead.\n",
      "  warn_deprecated(\n"
     ]
    }
   ],
   "source": [
    "from langchain.prompts import PromptTemplate \n",
    "from langchain.chains import LLMChain \n",
    "\n",
    "llm_2=ChatGoogleGenerativeAI(model=\"gemini-pro\") \n",
    "\n",
    "prompt=PromptTemplate.from_template(\"You are a content creator. Write me a tweet about {topic}.\") \n",
    "\n",
    "chain=LLMChain(llm=llm_2, prompt=prompt, verbose=True)"
   ]
  },
  {
   "cell_type": "code",
   "execution_count": 8,
   "metadata": {},
   "outputs": [
    {
     "name": "stdout",
     "output_type": "stream",
     "text": [
      "\n",
      "\n",
      "\u001b[1m> Entering new LLMChain chain...\u001b[0m\n",
      "Prompt after formatting:\n",
      "\u001b[32;1m\u001b[1;3mYou are a content creator. Write me a tweet about Why will AI change the world?.\u001b[0m\n",
      "\n",
      "\u001b[1m> Finished chain.\u001b[0m\n",
      "{'topic': 'Why will AI change the world?', 'text': 'AI is poised to revolutionize our world through:\\n🚀 Automation and efficiency gains\\n🧠 Enhanced decision-making capabilities\\n🌐 Personalized experiences\\n🤖 New products and services\\n💡 Scientific breakthroughs\\nUnlocking the potential of AI will shape our future in countless ways. Get ready for an AI-driven transformation! #AIRevolution #FutureofTech'}\n",
      "--------------------------------------------------\n",
      "AI is poised to revolutionize our world through:\n",
      "🚀 Automation and efficiency gains\n",
      "🧠 Enhanced decision-making capabilities\n",
      "🌐 Personalized experiences\n",
      "🤖 New products and services\n",
      "💡 Scientific breakthroughs\n",
      "Unlocking the potential of AI will shape our future in countless ways. Get ready for an AI-driven transformation! #AIRevolution #FutureofTech\n"
     ]
    }
   ],
   "source": [
    "topic=\"Why will AI change the world?\" \n",
    "\n",
    "response=chain.invoke(input=topic) \n",
    "\n",
    "print(response) \n",
    "print(\"-\"*50) \n",
    "print(response[\"text\"])"
   ]
  },
  {
   "cell_type": "markdown",
   "metadata": {},
   "source": [
    "System Prompt and Streaming "
   ]
  },
  {
   "cell_type": "markdown",
   "metadata": {},
   "source": [
    "System Prompt"
   ]
  },
  {
   "cell_type": "code",
   "execution_count": 9,
   "metadata": {},
   "outputs": [
    {
     "name": "stderr",
     "output_type": "stream",
     "text": [
      "c:\\Users\\mpari\\anaconda3\\envs\\LangChain_Laptop_1_venv\\lib\\site-packages\\langchain_google_genai\\chat_models.py:352: UserWarning: Convert_system_message_to_human will be deprecated!\n",
      "  warnings.warn(\"Convert_system_message_to_human will be deprecated!\")\n"
     ]
    },
    {
     "name": "stdout",
     "output_type": "stream",
     "text": [
      "content='OUI' response_metadata={'prompt_feedback': {'block_reason': 0, 'safety_ratings': []}, 'finish_reason': 'STOP', 'safety_ratings': [{'category': 'HARM_CATEGORY_SEXUALLY_EXPLICIT', 'probability': 'NEGLIGIBLE', 'blocked': False}, {'category': 'HARM_CATEGORY_HATE_SPEECH', 'probability': 'NEGLIGIBLE', 'blocked': False}, {'category': 'HARM_CATEGORY_HARASSMENT', 'probability': 'NEGLIGIBLE', 'blocked': False}, {'category': 'HARM_CATEGORY_DANGEROUS_CONTENT', 'probability': 'NEGLIGIBLE', 'blocked': False}]} id='run-1dd84f4a-7b4d-49e1-9fc0-ff8604c593c5-0' usage_metadata={'input_tokens': 15, 'output_tokens': 2, 'total_tokens': 17}\n",
      "--------------------------------------------------\n",
      "OUI\n"
     ]
    }
   ],
   "source": [
    "from langchain_core.messages import HumanMessage, SystemMessage \n",
    "\n",
    "# SystemMessage acts as a guide for the llm, telling it how to act or what type of responses to give \n",
    "\n",
    "llm=ChatGoogleGenerativeAI(model=\"gemini-pro\", convert_system_message_to_human=True) \n",
    "\n",
    "output=llm.invoke([SystemMessage(content=\"Answer only YES or NO in French.\"), HumanMessage(content=\"Is a cat a mammal?\")]) \n",
    "\n",
    "print(output) \n",
    "print(\"-\"*50) \n",
    "print(output.content)"
   ]
  },
  {
   "cell_type": "markdown",
   "metadata": {},
   "source": [
    "Streaming "
   ]
  },
  {
   "cell_type": "code",
   "execution_count": 10,
   "metadata": {},
   "outputs": [
    {
     "name": "stdout",
     "output_type": "stream",
     "text": [
      "**Title:** The Mathematical Foundation of Our Universe\n",
      "\n",
      "**Abstract:**\n",
      "\n",
      "The universe we inhabit is governed by a set of fundamental mathematical principles that underpin its structure, dynamics, and evolution. This paper explores the mathematical foundation of our universe, examining the key mathematical concepts and theories that provide a framework for understanding the cosmos. We discuss the role of geometry, topology, algebra, and calculus in describing the universe's properties and behavior.\n",
      "\n",
      "**Introduction:**\n",
      "\n",
      "The pursuit of understanding the universe has been a central endeavor of human inquiry for centuries. From the ancient Greeks to modern-day physicists, scientists have sought to unravel the mysteries of the cosmos through observation, experimentation, and mathematical modeling. Mathematics has emerged as an indispensable tool in this quest, providing a language for describing the universe's structure and dynamics.\n",
      "\n",
      "**Geometry and Topology:**\n",
      "\n",
      "Geometry and topology are fundamental mathematical disciplines that describe the shape and structure of objects. In cosmology, geometry is used to model the curvature of spacetime, which determines the universe's expansion and evolution. Topology, on the other hand, deals with the properties of objects that remain unchanged under continuous deformations. It is used to study the topology of the universe, including its connectedness and the existence of multiple universes.\n",
      "\n",
      "**Algebra:**\n",
      "\n",
      "Algebra is a branch of mathematics that deals with the study of structures, such as groups, rings, and fields. In cosmology, algebra is used to describe the symmetries and conservation laws of the universe. For example, the Standard Model of particle physics is based on the symmetry group SU(3) x SU(2) x U(1).\n",
      "\n",
      "**Calculus:**\n",
      "\n",
      "Calculus is a mathematical tool that allows us to study the rate of change of quantities. In cosmology, calculus is used to describe the evolution of the universe, including the expansion of the universe, the formation of galaxies, and the evolution of stars.\n",
      "\n",
      "**Mathematical Models of the Universe:**\n",
      "\n",
      "The mathematical foundation of our universe has led to the development of various mathematical models that describe its properties and behavior. These models include:\n",
      "\n",
      "* **The Friedmann-Lemaître-Robertson-Walker (FLRW) metric:** This metric describes the geometry of a homogeneous and isotropic universe.\n",
      "* **The Big Bang theory:** This theory describes the origin and evolution of the universe from a hot, dense state.\n",
      "* **The Standard Model of particle physics:** This theory describes the fundamental particles and forces that make up the universe.\n",
      "\n",
      "**Conclusion:**\n",
      "\n",
      "The mathematical foundation of our universe provides a powerful framework for understanding the structure, dynamics, and evolution of the cosmos. Geometry, topology, algebra, and calculus are essential mathematical tools that have enabled scientists to make significant progress in unraveling the mysteries of the universe. As we continue to explore the cosmos, mathematics will undoubtedly play an increasingly important role in our quest for knowledge.\n"
     ]
    }
   ],
   "source": [
    "# Without Streaming\n",
    "\n",
    "llm=ChatGoogleGenerativeAI(model=\"gemini-pro\", temperature=0) \n",
    "\n",
    "prompt=\"Write a scientific paper outlining the mathematical foundation of our universe.\" \n",
    "\n",
    "response=llm.invoke(prompt) \n",
    "\n",
    "print(response.content)"
   ]
  },
  {
   "cell_type": "code",
   "execution_count": 11,
   "metadata": {},
   "outputs": [
    {
     "name": "stdout",
     "output_type": "stream",
     "text": [
      "**Title:** The Mathematical Foundation of Our Universe\n",
      "\n",
      "**Abstract:**\n",
      "\n",
      "The universe we inhabit is governed by a set of fundamental mathematical principles that underpin its structure, dynamics, and evolution. This paper explores the mathematical foundation of our universe, examining the key mathematical concepts and theories that provide a framework for understanding the cosmos. We discuss the role of geometry, topology, algebra, and calculus in describing the universe's properties and behavior.\n",
      "\n",
      "**Introduction:**\n",
      "\n",
      "The pursuit of understanding the universe has been a central endeavor of human inquiry for centuries. From the ancient Greeks to modern-day physicists, scientists have sought to unravel the mysteries of the cosmos through observation, experimentation, and mathematical modeling. Mathematics has emerged as an indispensable tool in this quest, providing a language for describing the universe's structure and dynamics.\n",
      "\n",
      "**Geometry and Topology:**\n",
      "\n",
      "Geometry and topology are fundamental mathematical disciplines that describe the shape and structure of objects. In cosmology, geometry is used to model the curvature of spacetime, which determines the universe's expansion and evolution. Topology, on the other hand, deals with the properties of objects that remain unchanged under continuous deformations. It is used to study the topology of the universe, including its connectedness and the existence of multiple universes.\n",
      "\n",
      "**Algebra:**\n",
      "\n",
      "Algebra is a branch of mathematics that deals with the study of structures, such as groups, rings, and fields. In cosmology, algebra is used to describe the symmetries and conservation laws of the universe. For example, the Standard Model of particle physics is based on the symmetry group SU(3) x SU(2) x U(1).\n",
      "\n",
      "**Calculus:**\n",
      "\n",
      "Calculus is a mathematical tool that allows us to study the rate of change of quantities. In cosmology, calculus is used to describe the evolution of the universe, including the expansion of the universe, the formation of galaxies, and the evolution of stars.\n",
      "\n",
      "**Mathematical Models of the Universe:**\n",
      "\n",
      "The mathematical foundation of our universe has led to the development of various mathematical models that attempt to describe its properties and behavior. These models include:\n",
      "\n",
      "* **The Friedmann-Lemaître-Robertson-Walker (FLRW) metric:** This metric describes the geometry of a homogeneous and isotropic universe.\n",
      "* **The Big Bang theory:** This theory describes the origin and evolution of the universe from a hot, dense state.\n",
      "* **The Standard Model of particle physics:** This theory describes the fundamental particles and forces that make up the universe.\n",
      "\n",
      "**Conclusion:**\n",
      "\n",
      "The mathematical foundation of our universe provides a framework for understanding the structure, dynamics, and evolution of the cosmos. Geometry, topology, algebra, and calculus are essential mathematical tools that have enabled scientists to make significant progress in unraveling the mysteries of the universe. As we continue to explore the cosmos, mathematics will undoubtedly play an increasingly important role in our quest for knowledge."
     ]
    }
   ],
   "source": [
    "# With Streaming \n",
    "\n",
    "llm=ChatGoogleGenerativeAI(model=\"gemini-pro\", temperature=0) \n",
    "\n",
    "prompt=\"Write a scientific paper outlining the mathematical foundation of our universe.\" \n",
    "\n",
    "for chunk in llm.stream(prompt): \n",
    "    print(chunk.content, end=\"\")"
   ]
  },
  {
   "cell_type": "code",
   "execution_count": 12,
   "metadata": {},
   "outputs": [
    {
     "name": "stdout",
     "output_type": "stream",
     "text": [
      "**Title:** The Mathematical Foundation of Our Universe\n",
      "\n",
      "**Abstract:**\n",
      "\n",
      "The universe\n",
      "----------------------------------------------------------------------------------------------------\n",
      " we inhabit is governed by a set of fundamental mathematical principles that underpin its structure, dynamics, and evolution. This paper explores the mathematical foundation of our universe, examining\n",
      "----------------------------------------------------------------------------------------------------\n",
      " the key mathematical concepts and theories that provide a framework for understanding the cosmos. We discuss the role of geometry, topology, algebra, and calculus in describing the universe's properties and behavior.\n",
      "\n",
      "**Introduction:**\n",
      "\n",
      "The pursuit of understanding the universe has been a central endeavor of human inquiry for centuries. From the ancient Greeks\n",
      "----------------------------------------------------------------------------------------------------\n",
      " to modern-day physicists, scientists have sought to unravel the mysteries of the cosmos through observation, experimentation, and mathematical modeling. Mathematics has emerged as an indispensable tool in this quest, providing a language for describing the universe's structure and dynamics.\n",
      "\n",
      "**Geometry and Topology:**\n",
      "\n",
      "Geometry and topology are fundamental mathematical disciplines that describe the shape and structure of objects. In cosmology, geometry is used to model the curvature of spacetime, which determines the universe's expansion and evolution. Topology, on the other hand, deals with the properties of objects that remain unchanged under continuous deformations. It is used to study the topology of the universe, including its\n",
      "----------------------------------------------------------------------------------------------------\n",
      " connectedness and the existence of multiple universes.\n",
      "\n",
      "**Algebra:**\n",
      "\n",
      "Algebra is a branch of mathematics that deals with the study of structures, such as groups, rings, and fields. In cosmology, algebra is used to describe the symmetries and conservation laws of the universe. For example, the Standard Model of particle physics is based on the symmetry group SU(3) x SU(2) x U(1).\n",
      "\n",
      "**Calculus:**\n",
      "\n",
      "Calculus is a mathematical tool that allows us to study the rate of change of quantities. In cosmology, calculus is used to describe the evolution of the universe, including the expansion of spacetime, the formation of galaxies, and the evolution of stars. The equations of general relativity, which govern the dynamics of spacetime, are based on the principles of calculus.\n",
      "\n",
      "**Mathematical Models:**\n",
      "\n",
      "Mathematical models play a crucial role in cosmology. They provide a framework for testing theories, making predictions, and understanding the behavior of the universe. Some of the most important mathematical models in cosmology include:\n",
      "\n",
      "* The Friedmann-Lemaître-Robertson-Walker (FLRW) metric, which describes the geometry of an expanding universe.\n",
      "* The Big Bang model, which describes the origin and evolution of the universe.\n",
      "* The Standard Model of particle physics,\n",
      "----------------------------------------------------------------------------------------------------\n",
      " which describes the fundamental particles and forces that make up the universe.\n",
      "\n",
      "**Conclusion:**\n",
      "\n",
      "The mathematical foundation of our universe is a complex and fascinating subject that continues to be explored by scientists. The mathematical principles that govern the cosmos provide a framework for understanding its structure, dynamics, and evolution. As we continue to probe the depths of the universe, mathematics will remain an indispensable tool in our quest for knowledge.\n",
      "----------------------------------------------------------------------------------------------------\n"
     ]
    }
   ],
   "source": [
    "# With Streaming \n",
    "\n",
    "llm=ChatGoogleGenerativeAI(model=\"gemini-pro\", temperature=0) \n",
    "\n",
    "prompt=\"Write a scientific paper outlining the mathematical foundation of our universe.\" \n",
    "\n",
    "for chunk in llm.stream(prompt): \n",
    "    print(chunk.content)\n",
    "    print(\"-\"*100)"
   ]
  }
 ],
 "metadata": {
  "kernelspec": {
   "display_name": "LangChain_1_venv",
   "language": "python",
   "name": "python3"
  },
  "language_info": {
   "codemirror_mode": {
    "name": "ipython",
    "version": 3
   },
   "file_extension": ".py",
   "mimetype": "text/x-python",
   "name": "python",
   "nbconvert_exporter": "python",
   "pygments_lexer": "ipython3",
   "version": "3.9.19"
  }
 },
 "nbformat": 4,
 "nbformat_minor": 2
}
